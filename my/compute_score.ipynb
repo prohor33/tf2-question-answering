{
 "cells": [
  {
   "cell_type": "code",
   "execution_count": 18,
   "metadata": {},
   "outputs": [],
   "source": [
    "import pandas as pd\n",
    "import json\n",
    "import collections\n",
    "import math"
   ]
  },
  {
   "cell_type": "code",
   "execution_count": 116,
   "metadata": {
    "scrolled": true
   },
   "outputs": [
    {
     "name": "stdout",
     "output_type": "stream",
     "text": [
      "short tp: 150 fp: 200 fn: 121 tn: 529 all: 1000\n",
      "long tp: 325 fp: 350 fn: 51 tn: 274 all: 1000\n",
      "overall tp: 475 fp: 550 fn: 172\n",
      "f1: 0.57 precision: 0.46 recall: 0.73\n"
     ]
    }
   ],
   "source": [
    "def compute_score(gold_nq_jsonl_path, answers_csv_path, tqdm=None):\n",
    "    \n",
    "    answers_csv_df = pd.read_csv(answers_csv_path)\n",
    "    gold_e_by_id = {}\n",
    "    with open(gold_nq_jsonl_path) as gold_nq_jsonl:\n",
    "        if tqdm is not None:\n",
    "            gold_nq_jsonl = tqdm(gold_nq_jsonl)\n",
    "        for index, line in enumerate(gold_nq_jsonl):\n",
    "            gold_e = json.loads(line, object_pairs_hook=collections.OrderedDict)\n",
    "            gold_e_by_id[gold_e['example_id']] = gold_e\n",
    "            \n",
    "    tp_short = 0\n",
    "    fp_short = 0\n",
    "    fn_short = 0\n",
    "    tn_short = 0\n",
    "    tp_long = 0\n",
    "    fp_long = 0\n",
    "    fn_long = 0\n",
    "    tn_long = 0\n",
    "    is_short_fp_column = []\n",
    "    is_long_fp_column = []\n",
    "    \n",
    "    for index, row in answers_csv_df.iterrows():\n",
    "        example_id = row['example_id']\n",
    "        if not example_id in gold_e_by_id:\n",
    "            raise ValueError('example id not found in gold_nq_jsonl file: ' + str(example_id))\n",
    "        annotations = gold_e_by_id[example_id]['annotations']\n",
    "        assert(len(annotations) == 1)\n",
    "        gold_answer = annotations[0]\n",
    "        # short answer\n",
    "        short_answer = row['short_answer']\n",
    "        short_answers_gold = gold_answer['short_answers']\n",
    "        yes_no_answer_gold = gold_answer['yes_no_answer']\n",
    "        short_answer_score = row['short_answer_score']\n",
    "        is_short_fp = False\n",
    "        is_long_fp = False\n",
    "#         print('short_answer:', short_answer)\n",
    "#         print('short_answers_gold:', short_answers_gold)\n",
    "#         print('yes_no_answer_gold:', yes_no_answer_gold)\n",
    "        \n",
    "        if short_answer == 'YES' or short_answer == 'NO':\n",
    "            ok = short_answer == yes_no_answer_gold\n",
    "            tp_short += ok\n",
    "            fp_short += not ok\n",
    "            is_short_fp = not ok\n",
    "#             print(ok)\n",
    "        elif isinstance(short_answer, str):\n",
    "            assert(':' in short_answer)\n",
    "            start_token, end_token = [int(x) for x in short_answer.split(':')]\n",
    "            short_answer_dict = collections.OrderedDict([('start_token', start_token), ('end_token', end_token)])\n",
    "            ok = short_answer_dict in short_answers_gold\n",
    "            tp_short += ok\n",
    "            fp_short += not ok\n",
    "            is_short_fp = not ok\n",
    "#             print(ok)\n",
    "        elif isinstance(short_answer, float) and math.isnan(short_answer):\n",
    "            # blank short answer\n",
    "            ok = yes_no_answer_gold == 'NONE' and len(short_answers_gold) == 0\n",
    "            tn_short += ok\n",
    "            fn_short += not ok\n",
    "#             print(ok)\n",
    "        else:\n",
    "            raise Exception('wrong short_answer type, short_answer:', short_answer)\n",
    "            \n",
    "        # long answer\n",
    "        long_answer = row['long_answer']\n",
    "        long_answer_gold = gold_answer['long_answer']\n",
    "#         print('long_answer', long_answer)\n",
    "#         print('long_answer_gold', long_answer_gold)\n",
    "        long_answer_gold_str = str(long_answer_gold['start_token']) + ':' + str(long_answer_gold['end_token'])\n",
    "        if isinstance(long_answer, str):\n",
    "            ok = long_answer == long_answer_gold_str\n",
    "            tp_long += ok\n",
    "            fp_long += not ok\n",
    "            is_long_fp = not ok\n",
    "#             print(ok)\n",
    "        elif isinstance(long_answer, float) and math.isnan(long_answer):\n",
    "            # blank long answer\n",
    "            ok = long_answer_gold_str == \"-1:-1\"\n",
    "            tn_long += ok\n",
    "            fn_long += not ok\n",
    "#             print(ok)\n",
    "            \n",
    "#         print('')\n",
    "\n",
    "        \n",
    "        is_short_fp_column.append(is_short_fp)\n",
    "        is_long_fp_column.append(is_long_fp)\n",
    "\n",
    "    print('short tp:', tp_short, 'fp:', fp_short, 'fn:', fn_short, 'tn:', tn_short,\n",
    "          'all:', tp_short + fp_short + fn_short + tn_short)\n",
    "    print('long tp:', tp_long, 'fp:', fp_long, 'fn:', fn_long, 'tn:', tn_long,\n",
    "         'all:', tp_long + fp_long + fn_long + tn_long)\n",
    "    tp = tp_short + tp_long\n",
    "    fp = fp_short + fp_long\n",
    "    fn = fn_short + fn_long\n",
    "    print('overall tp:', tp, 'fp:', fp, 'fn:', fn)\n",
    "    precision = tp / (tp + fp)\n",
    "    recall = tp / (tp + fn)\n",
    "    f1 = 2 * (precision * recall) / (precision + recall)\n",
    "    print('f1:', '{0:.2f}'.format(f1), 'precision:', '{0:.2f}'.format(precision), 'recall:', '{0:.2f}'.format(recall))\n",
    "    \n",
    "    answers_csv_df['is_short_fp'] = is_short_fp_column\n",
    "    answers_csv_df['is_long_fp'] = is_long_fp_column\n",
    "    \n",
    "    return answers_csv_df\n",
    "    \n",
    "answers_csv_df = compute_score('../output/1k/nq-train-part.jsonl', '../output/test_answers_df_v1.csv')"
   ]
  },
  {
   "cell_type": "code",
   "execution_count": 113,
   "metadata": {},
   "outputs": [
    {
     "data": {
      "text/plain": [
       "(1000, 9)"
      ]
     },
     "execution_count": 113,
     "metadata": {},
     "output_type": "execute_result"
    }
   ],
   "source": [
    "answers_csv_df.shape"
   ]
  },
  {
   "cell_type": "code",
   "execution_count": null,
   "metadata": {},
   "outputs": [],
   "source": []
  }
 ],
 "metadata": {
  "kernelspec": {
   "display_name": "Python 3",
   "language": "python",
   "name": "python3"
  },
  "language_info": {
   "codemirror_mode": {
    "name": "ipython",
    "version": 3
   },
   "file_extension": ".py",
   "mimetype": "text/x-python",
   "name": "python",
   "nbconvert_exporter": "python",
   "pygments_lexer": "ipython3",
   "version": "3.6.9"
  }
 },
 "nbformat": 4,
 "nbformat_minor": 2
}
